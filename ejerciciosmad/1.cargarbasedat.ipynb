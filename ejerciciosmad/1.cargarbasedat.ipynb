{
  "cells": [
    {
      "cell_type": "code",
      "execution_count": null,
      "metadata": {
        "colab": {
          "base_uri": "https://localhost:8080/"
        },
        "id": "zA6CHl-SEYwd",
        "outputId": "95941d1e-8f15-4c68-a728-5fc7b3a9a4ee"
      },
      "outputs": [
        {
          "name": "stdout",
          "output_type": "stream",
          "text": [
            "Requirement already satisfied: xlrd in ./.venv/lib/python3.12/site-packages (2.0.2)\n",
            "Requirement already satisfied: mysql-connector-python in ./.venv/lib/python3.12/site-packages (9.4.0)\n",
            "Requirement already satisfied: pandas in ./.venv/lib/python3.12/site-packages (2.3.1)\n",
            "Requirement already satisfied: numpy>=1.26.0 in ./.venv/lib/python3.12/site-packages (from pandas) (2.3.2)\n",
            "Requirement already satisfied: python-dateutil>=2.8.2 in ./.venv/lib/python3.12/site-packages (from pandas) (2.9.0.post0)\n",
            "Requirement already satisfied: pytz>=2020.1 in ./.venv/lib/python3.12/site-packages (from pandas) (2025.2)\n",
            "Requirement already satisfied: tzdata>=2022.7 in ./.venv/lib/python3.12/site-packages (from pandas) (2025.2)\n",
            "Requirement already satisfied: six>=1.5 in ./.venv/lib/python3.12/site-packages (from python-dateutil>=2.8.2->pandas) (1.17.0)\n",
            "Note: you may need to restart the kernel to use updated packages.\n"
          ]
        }
      ],
      "source": [
        "%pip install xlrd mysql-connector-python pandas\n",
        "\n",
        "import xlrd\n",
        "import mysql.connector\n",
        "import pandas as pd\n",
        "\n",
        "# Conectarse a la base de datos MySQL\n",
        "conexion = mysql.connector.connect(\n",
        "    host=\"database-1.cjyy8w6ya3fr.eu-north-1.rds.amazonaws.com\",\n",
        "\n",
        ")"
      ]
    },
    {
      "cell_type": "code",
      "execution_count": 2,
      "metadata": {
        "id": "FYW3bbG4F0um"
      },
      "outputs": [],
      "source": [
        "\n",
        "\n",
        "nombre_base_datos = \"sandbox\"\n",
        "nombre_tabla_ventas = \"EHR_ventas\"\n",
        "nombre_tabla_calendario = \"EHR_calendario\"\n",
        "nombre_tabla_pedidos = \"EHR_pedidos\"\n",
        "\n",
        "cursor = conexion.cursor()\n",
        "cursor.execute(f\"CREATE DATABASE IF NOT EXISTS {nombre_base_datos}\")\n",
        "\n",
        "cursor.execute(f\"USE {nombre_base_datos}\")"
      ]
    },
    {
      "cell_type": "code",
      "execution_count": 3,
      "metadata": {
        "id": "YQYz5MlhGV-O"
      },
      "outputs": [],
      "source": [
        "cursor.execute(f\"DROP TABLE IF EXISTS {nombre_tabla_ventas}\")\n",
        "cursor.execute(f\"CREATE TABLE IF NOT EXISTS {nombre_tabla_ventas} (\"\n",
        "               \"FAMILIA VARCHAR(255),\"\n",
        "               \"Tipo VARCHAR(255),\"\n",
        "               \"FechaVenta DATE,\"\n",
        "               \"HoraVenta INT,\"\n",
        "               \"Articulo VARCHAR(255),\"\n",
        "               \"Cantidad FLOAT,\"\n",
        "               \"Precio FLOAT,\"\n",
        "               \"Importe FLOAT\"\n",
        "               \")\")"
      ]
    },
    {
      "cell_type": "code",
      "execution_count": 4,
      "metadata": {
        "id": "W1fcqqOiZshL"
      },
      "outputs": [],
      "source": [
        "cursor.execute(f\"DROP TABLE IF EXISTS {nombre_tabla_calendario}\")\n",
        "cursor.execute(f\"CREATE TABLE IF NOT EXISTS {nombre_tabla_calendario} (\"\n",
        "               \"Fecha DATE,\"\n",
        "               \"Festivo VARCHAR(255)\"\n",
        "               \")\")"
      ]
    },
    {
      "cell_type": "code",
      "execution_count": 5,
      "metadata": {
        "id": "bgq4Hv03a8Fp"
      },
      "outputs": [],
      "source": [
        "cursor.execute(f\"DROP TABLE IF EXISTS {nombre_tabla_pedidos}\")\n",
        "cursor.execute(f\"CREATE TABLE IF NOT EXISTS {nombre_tabla_pedidos} (\"\n",
        "               \"Tipo VARCHAR(255),\"\n",
        "               \"Fecha DATE,\"\n",
        "               \"Articulo VARCHAR(255),\"\n",
        "               \"Cantidad FLOAT,\"\n",
        "               \"Precio FLOAT,\"\n",
        "               \"Importe FLOAT\"\n",
        "               \")\")"
      ]
    },
    {
      "cell_type": "code",
      "execution_count": 6,
      "metadata": {
        "colab": {
          "base_uri": "https://localhost:8080/"
        },
        "id": "3I6Qgl9Y-WUI",
        "outputId": "ae0b6d5f-a186-4258-eccb-706521cb5a75"
      },
      "outputs": [
        {
          "name": "stdout",
          "output_type": "stream",
          "text": [
            "Requirement already satisfied: mysql-connector-python in ./.venv/lib/python3.12/site-packages (9.4.0)\n",
            "Requirement already satisfied: xlrd in ./.venv/lib/python3.12/site-packages (2.0.2)\n",
            "Requirement already satisfied: pandas in ./.venv/lib/python3.12/site-packages (2.3.1)\n",
            "Requirement already satisfied: numpy>=1.26.0 in ./.venv/lib/python3.12/site-packages (from pandas) (2.3.2)\n",
            "Requirement already satisfied: python-dateutil>=2.8.2 in ./.venv/lib/python3.12/site-packages (from pandas) (2.9.0.post0)\n",
            "Requirement already satisfied: pytz>=2020.1 in ./.venv/lib/python3.12/site-packages (from pandas) (2025.2)\n",
            "Requirement already satisfied: tzdata>=2022.7 in ./.venv/lib/python3.12/site-packages (from pandas) (2025.2)\n",
            "Requirement already satisfied: six>=1.5 in ./.venv/lib/python3.12/site-packages (from python-dateutil>=2.8.2->pandas) (1.17.0)\n",
            "Note: you may need to restart the kernel to use updated packages.\n"
          ]
        }
      ],
      "source": [
        "%pip install mysql-connector-python xlrd pandas\n",
        "\n",
        "import xlrd\n",
        "import mysql.connector\n",
        "import pandas as pd\n"
      ]
    },
    {
      "cell_type": "code",
      "execution_count": 7,
      "metadata": {
        "id": "7MpFlJJG-PdW"
      },
      "outputs": [
        {
          "name": "stdout",
          "output_type": "stream",
          "text": [
            "Requirement already satisfied: openpyxl in ./.venv/lib/python3.12/site-packages (3.1.5)\n",
            "Requirement already satisfied: et-xmlfile in ./.venv/lib/python3.12/site-packages (from openpyxl) (2.0.0)\n",
            "Note: you may need to restart the kernel to use updated packages.\n"
          ]
        }
      ],
      "source": [
        "%pip install openpyxl\n",
        "\n",
        "# Cargar el archivo Excel en Colab\n",
        "nombre_archivo_ventas = \"ArticulosPanaderia.xlsx\"\n",
        "\n",
        "# Abrir el archivo Excel\n",
        "df = pd.read_excel(nombre_archivo_ventas)"
      ]
    },
    {
      "cell_type": "code",
      "execution_count": 8,
      "metadata": {
        "id": "cmK7RyQo_S1R"
      },
      "outputs": [
        {
          "name": "stdout",
          "output_type": "stream",
          "text": [
            "Requirement already satisfied: openpyxl in ./.venv/lib/python3.12/site-packages (3.1.5)\n",
            "Requirement already satisfied: et-xmlfile in ./.venv/lib/python3.12/site-packages (from openpyxl) (2.0.0)\n",
            "Note: you may need to restart the kernel to use updated packages.\n"
          ]
        }
      ],
      "source": [
        "%pip install openpyxl\n",
        "\n",
        "import pandas as pd\n",
        "\n",
        "# Cargar el archivo Excel en Colab\n",
        "nombre_archivo_ventas = \"ArticulosPanaderia.xlsx\"\n",
        "\n",
        "# Abrir el archivo Excel\n",
        "df = pd.read_excel(nombre_archivo_ventas)\n",
        "\n",
        "# Preparar los datos para la inserción en lotes\n",
        "registros = []\n",
        "for _, row in df.iterrows():\n",
        "    familia = row['FAMILIA']\n",
        "    tipo = row['Tipo']\n",
        "    fecha_venta = row['FechaVenta'].strftime('%Y-%m-%d')\n",
        "    hora_venta = row['HoraVenta']\n",
        "    articulo = row['Articulo']\n",
        "    cantidad = row['Cantidad']\n",
        "    precio = row['Precio']\n",
        "    importe = row['Importe']\n",
        "    registros.append((familia, tipo, fecha_venta, hora_venta, articulo, cantidad, precio, importe))\n"
      ]
    },
    {
      "cell_type": "code",
      "execution_count": 9,
      "metadata": {
        "id": "RkH_2hMRH1rE"
      },
      "outputs": [
        {
          "name": "stdout",
          "output_type": "stream",
          "text": [
            "nombre_tabla_ventas: EHR_ventas\n"
          ]
        }
      ],
      "source": [
        "# Verificar que la variable está definida\n",
        "print(\"nombre_tabla_ventas:\", nombre_tabla_ventas)\n",
        "\n",
        "# Verificar y reconectar si la conexión no está disponible\n",
        "if not conexion.is_connected():\n",
        "    conexion.reconnect(attempts=3, delay=2)\n",
        "    cursor = conexion.cursor()\n",
        "\n",
        "# Seleccionar la base de datos antes de insertar\n",
        "cursor.execute(f\"USE {nombre_base_datos}\")\n",
        "\n",
        "# Crear la consulta SQL para insertar los datos en la tabla\n",
        "consulta = f\"INSERT INTO {nombre_tabla_ventas} (FAMILIA, Tipo, FechaVenta, HoraVenta, Articulo, Cantidad, Precio, Importe) \" \\\n",
        "           \"VALUES (%s, %s, %s, %s, %s, %s, %s, %s)\"\n",
        "\n",
        "# Ejecutar la consulta con la lista de registros en lotes\n",
        "tamano_lote = 1000\n",
        "for i in range(0, len(registros), tamano_lote):\n",
        "    lote_registros = registros[i:i + tamano_lote]\n",
        "    cursor = conexion.cursor()\n",
        "    cursor.execute(f\"USE {nombre_base_datos}\")\n",
        "    cursor.executemany(consulta, lote_registros)\n",
        "    conexion.commit()"
      ]
    },
    {
      "cell_type": "code",
      "execution_count": 10,
      "metadata": {
        "id": "dzdRc7tYL__c"
      },
      "outputs": [],
      "source": [
        "# Cargar el archivo Excel en Colab\n",
        "nombre_archivo_calendario = \"Calendario.xlsx\"\n",
        "\n",
        "# Abrir el archivo Excel\n",
        "df = pd.read_excel(nombre_archivo_calendario)\n",
        "\n",
        "# Preparar los datos para la inserción en lotes\n",
        "registros = []\n",
        "for _, row in df.iterrows():\n",
        "    fecha = row['Fecha'].strftime('%Y-%m-%d')\n",
        "    festivo = row['Festivo']\n",
        "    registros.append((fecha,festivo))\n",
        "\n",
        "# Crear la consulta SQL para insertar los datos en la tabla\n",
        "consulta = f\"INSERT INTO {nombre_tabla_calendario} (Fecha, Festivo) \" \\\n",
        "           \"VALUES (%s, %s)\"\n",
        "\n",
        "# Ejecutar la consulta con la lista de registros en lotes\n",
        "tamano_lote = 1000\n",
        "for i in range(0, len(registros), tamano_lote):\n",
        "    lote_registros = registros[i:i + tamano_lote]\n",
        "    cursor = conexion.cursor()\n",
        "    cursor.executemany(consulta, lote_registros)\n",
        "    conexion.commit()"
      ]
    },
    {
      "cell_type": "code",
      "execution_count": 11,
      "metadata": {
        "id": "E5pqAX10cLgw"
      },
      "outputs": [],
      "source": [
        "# Cargar el archivo Excel en Colab\n",
        "nombre_archivo_pedidos = \"CantidadPedida.xlsx\"\n",
        "\n",
        "# Abrir el archivo Excel\n",
        "df = pd.read_excel(nombre_archivo_pedidos)\n",
        "\n",
        "# Preparar los datos para la inserción en lotes\n",
        "registros = []\n",
        "for _, row in df.iterrows():\n",
        "    tipo = row['Tipo']\n",
        "    fecha_venta = row['Fecha'].strftime('%Y-%m-%d')\n",
        "    articulo = row['Articulo']\n",
        "    cantidad = row['Cantidad']\n",
        "    precio = row['Precio']\n",
        "    importe = row['Importe']\n",
        "    registros.append(( tipo, fecha_venta, articulo, cantidad, precio, importe))\n",
        "\n",
        "# Crear la consulta SQL para insertar los datos en la tabla\n",
        "consulta = f\"INSERT INTO {nombre_tabla_pedidos} (Tipo, Fecha, Articulo, Cantidad, Precio, Importe) \" \\\n",
        "           \"VALUES (%s, %s, %s, %s, %s, %s)\"\n",
        "\n",
        "# Ejecutar la consulta con la lista de registros en lotes\n",
        "tamano_lote = 1000\n",
        "for i in range(0, len(registros), tamano_lote):\n",
        "    lote_registros = registros[i:i + tamano_lote]\n",
        "    cursor = conexion.cursor()\n",
        "    cursor.executemany(consulta, lote_registros)\n",
        "    conexion.commit()"
      ]
    },
    {
      "cell_type": "code",
      "execution_count": 12,
      "metadata": {
        "id": "fC4arDeknUjE"
      },
      "outputs": [],
      "source": [
        "# Nota: las consultas siguientes están preparadas para lanzarse con los datos cargados en la bbdd data y con los nombres iniciales, si se lanzan con usuario1 debae adaptarse\n",
        "\n",
        "consulta_proceso=\"\"\"\n",
        "\n",
        "\n",
        "/*Ordenamos los productos por familia*/\n",
        "drop table if exists sandbox.EHR_articulos_top;\n",
        "create table sandbox.EHR_articulos_top as (\n",
        "\n",
        "\tselect\n",
        "\tArticulo,\n",
        "\tFAMILIA,\n",
        "\tsum(importe) as importe_total,\n",
        "\tROW_NUMBER () OVER(partition by FAMILIA order by sum(importe) desc) as orden\n",
        "\tfrom sandbox.EHR_ventas\n",
        "\twhere FechaVenta >= '2021-05-01'\n",
        "\tgroup by 1,2\n",
        "\n",
        ");\n",
        "\n",
        "\n",
        "/*Creamos un calendario general del 1/1/2017 al 31/12/2023*/\n",
        "drop table if exists sandbox.EHR_calendario_dias;\n",
        "create table sandbox.EHR_calendario_dias as (\n",
        "\n",
        "with recursive cte_calendario as (\n",
        "\tselect date('2017-01-01') as calendar_date -- fecha de inicio\n",
        "\tunion all\n",
        "\tselect date_add(calendar_date, interval 1 day) as calendar_date from cte_calendario\n",
        "\twhere date_add(calendar_date, interval 1 day) <= date('2023-12-31') -- condicion de fin, fecha final\n",
        ")\n",
        "\n",
        "select\n",
        "calendar_date as fecha,\n",
        "year(calendar_date) as fx_anno,\n",
        "month(calendar_date) as fx_mes,\n",
        "day(calendar_date) as fx_day,\n",
        "date_format(calendar_date, '%Y%m') as fx_anno_mes,\n",
        "date_format(calendar_Date,'%x-%v') as semana -- formato\n",
        "from cte_calendario\n",
        "\n",
        ");\n",
        "\n",
        "/*Añadimos al calendario los festivos*/\n",
        "drop table if exists sandbox.EHR_calendario_completo;\n",
        "create table sandbox.EHR_calendario_completo as (\n",
        "select\n",
        "base.*,\n",
        "festivos.festivo\n",
        "from sandbox.EHR_calendario_dias base\n",
        "left join\n",
        "\t(select\n",
        "\ta.*,\n",
        "\trow_number() over(partition by a.fecha order by a.festivo) as orden\n",
        "\tfrom sandbox.EHR_calendario a\n",
        "\t) festivos\n",
        "on base.fecha=festivos.fecha\n",
        "and festivos.orden=1\n",
        ");\n",
        "\n",
        "/*Agregamos las ventas por día (quitamos el detalle por hora)*/\n",
        "\n",
        "/*Añadimos además el orden del producto y si está en el rango de fecha de estudio*/\n",
        "drop table if exists sandbox.EHR_ventas_diarias;\n",
        "create table sandbox.EHR_ventas_diarias as (\n",
        "select\n",
        "base.familia,\n",
        "base.tipo,\n",
        "base.fechaVenta,\n",
        "calendario.festivo,\n",
        "base.articulo,\n",
        "sum(base.precio*base.cantidad)/sum(base.cantidad) as precio, /* Se calcula como el precio promedio del día, ya que hay cambios de precio a lo largo del día*/\n",
        "articulos.orden as orden_articulo_familia,\n",
        "case when base.fechaVenta >=date('2021-05-01') then 'S' else 'N' end as in_fecha_estudio,\n",
        "sum(base.cantidad) as cantidad,\n",
        "sum(base.importe) as importe\n",
        "\n",
        "from sandbox.EHR_ventas base\n",
        "\n",
        "inner join sandbox.EHR_calendario_completo calendario\n",
        "on base.FechaVenta=calendario.fecha\n",
        "\n",
        "inner join sandbox.EHR_articulos_top articulos\n",
        "on base.familia=articulos.familia\n",
        "and base.articulo=articulos.articulo\n",
        "\n",
        "\n",
        "group by 1,2,3,4,5,7,8);\n",
        "\n",
        "\n",
        "/*Creamos una vista final con el filtrado para el estudio*/\n",
        "drop view if exists sandbox.EHR_ventas_diarias_estudio_completo;\n",
        "create view sandbox.EHR_ventas_diarias_estudio_completo as\n",
        "(select *\n",
        "from sandbox.EHR_ventas_diarias\n",
        "where tipo='VENTA'\n",
        "and in_fecha_estudio='S'\n",
        "and orden_articulo_familia<=5);\n",
        "\n",
        "\n",
        "/*Creamos una vista extra con el filtrado para el estudio que no tenga días de mayo 23 (que habrá que predecir)*/\n",
        "drop view if exists sandbox.EHR_ventas_diarias_estudio;\n",
        "create view sandbox.EHR_ventas_diarias_estudio as\n",
        "(select *\n",
        "from sandbox.EHR_ventas_diarias\n",
        "where tipo='VENTA'\n",
        "and in_fecha_estudio='S'\n",
        "and fechaventa < date('2023-05-01')\n",
        "and orden_articulo_familia<=5);\n",
        "\"\"\""
      ]
    },
    {
      "cell_type": "code",
      "execution_count": 13,
      "metadata": {
        "id": "Y_JKs9vmrwwy"
      },
      "outputs": [
        {
          "name": "stdout",
          "output_type": "stream",
          "text": [
            "Error ejecutando consulta:\n",
            "create table sandbox.EHR_articulos_top as (\n",
            "\n",
            "\tselect\n",
            "\tArticulo,\n",
            "\tFAMILIA,\n",
            "\tsum(importe) as importe_total,\n",
            "\tROW_NUMBER () OVER(partition by FAMILIA order by sum(importe) desc) as orden\n",
            "\tfrom sandbox.EHR_ventas\n",
            "\twhere FechaVenta >= '2021-05-01'\n",
            "\tgroup by 1,2\n",
            "\n",
            ")\n",
            "Error: 1050 (42S01): Table 'EHR_articulos_top' already exists\n"
          ]
        }
      ],
      "source": [
        "# Separar las consultas en una lista\n",
        "consultas_lista = consulta_proceso.split(\";\")\n",
        "\n",
        "# Eliminar espacios en blanco y elementos vacíos\n",
        "consultas_lista = [consulta.strip() for consulta in consultas_lista if consulta.strip()]\n",
        "\n",
        "# Ejecutar las consultas individualmente, omitiendo comentarios y vacíos\n",
        "for consulta in consultas_lista:\n",
        "    # Omitir comentarios de bloque y líneas vacías\n",
        "    if consulta.startswith(\"/*\") or consulta.startswith(\"--\") or consulta == \"\":\n",
        "        continue\n",
        "    try:\n",
        "        cursor.execute(consulta)\n",
        "        conexion.commit()\n",
        "    except Exception as e:\n",
        "        print(f\"Error ejecutando consulta:\\n{consulta}\\nError: {e}\")\n",
        "        break  # O puedes usar 'continue' si quieres seguir con las siguientes"
      ]
    },
    {
      "cell_type": "markdown",
      "metadata": {
        "id": "kiEfBfVOB_ik"
      },
      "source": []
    },
    {
      "cell_type": "code",
      "execution_count": 14,
      "metadata": {
        "id": "6cPD1EGgYsIF"
      },
      "outputs": [],
      "source": [
        "# cursor.execute(f\"grant select on {nombre_base_datos}.ventas_diarias to usuario1\")\n",
        "# cursor.execute(f\"grant select on {nombre_base_datos}.ventas_diarias_estudio to usuario1\")"
      ]
    },
    {
      "cell_type": "code",
      "execution_count": 15,
      "metadata": {
        "id": "qh_7R53Z5N8E"
      },
      "outputs": [],
      "source": [
        "# Consultas adicionales por problema de permisos del usuario usuario1 en la base de datos data"
      ]
    },
    {
      "cell_type": "code",
      "execution_count": 16,
      "metadata": {
        "id": "uw5Vu9Nl59JO"
      },
      "outputs": [],
      "source": [
        "import mysql.connector\n",
        "\n",
        "# Reconnect if the connection is not alive\n",
        "if not conexion.is_connected():\n",
        "\tconexion.reconnect(attempts=3, delay=2)\n",
        "\tcursor = conexion.cursor()\n",
        "\n",
        "cursor.execute(f\"drop table if exists sandbox.EHR_ventas_diarias_estudio;\")"
      ]
    },
    {
      "cell_type": "markdown",
      "metadata": {
        "id": "Kvgau6Hn8ifs"
      },
      "source": []
    },
    {
      "cell_type": "code",
      "execution_count": 17,
      "metadata": {
        "id": "v5EqkZR34k2I"
      },
      "outputs": [],
      "source": [
        "cursor.execute(\"DROP TABLE IF EXISTS sandbox.EHR_ventas_diarias_estudio\")\n",
        "cursor.execute(\"DROP TABLE IF EXISTS sandbox.EHR1_ventas_diarias_estudio\")\n",
        "cursor.execute(f\"CREATE TABLE sandbox.EHR1_ventas_diarias_estudio AS SELECT * FROM {nombre_base_datos}.EHR_ventas_diarias_estudio\")"
      ]
    },
    {
      "cell_type": "markdown",
      "metadata": {
        "id": "uQWjdXOL5u6z"
      },
      "source": []
    }
  ],
  "metadata": {
    "colab": {
      "provenance": []
    },
    "kernelspec": {
      "display_name": ".venv",
      "language": "python",
      "name": "python3"
    },
    "language_info": {
      "codemirror_mode": {
        "name": "ipython",
        "version": 3
      },
      "file_extension": ".py",
      "mimetype": "text/x-python",
      "name": "python",
      "nbconvert_exporter": "python",
      "pygments_lexer": "ipython3",
      "version": "3.12.1"
    }
  },
  "nbformat": 4,
  "nbformat_minor": 0
}
